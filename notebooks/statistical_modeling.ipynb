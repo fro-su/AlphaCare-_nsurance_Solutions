{
 "cells": [
  {
   "cell_type": "code",
   "execution_count": 41,
   "metadata": {},
   "outputs": [],
   "source": [
    "import sys\n",
    "sys.path.append('../')\n",
    "import pandas as pd\n",
    "import numpy as np\n",
    "from tabulate import tabulate\n",
    "import matplotlib.pyplot as plt\n",
    "import seaborn as sns\n",
    "from sklearn.model_selection import train_test_split\n",
    "from sklearn.preprocessing import OneHotEncoder, StandardScaler, LabelEncoder\n",
    "from src.data_quality_checks import check_missing_data\n",
    "from sklearn.linear_model import LinearRegression\n",
    "from sklearn.tree import DecisionTreeRegressor\n",
    "from sklearn.ensemble import RandomForestRegressor\n",
    "from sklearn.metrics import mean_absolute_error, mean_squared_error, r2_score\n",
    "\n",
    "import shap"
   ]
  },
  {
   "cell_type": "markdown",
   "metadata": {},
   "source": [
    "# Data Preparation"
   ]
  },
  {
   "cell_type": "markdown",
   "metadata": {},
   "source": [
    "Load and prepare the data"
   ]
  },
  {
   "cell_type": "code",
   "execution_count": 39,
   "metadata": {},
   "outputs": [],
   "source": [
    "df = pd.read_csv('../data/MachineLearningRating_v3.txt', sep='|', low_memory=False)\n",
    "\n",
    "# df = pd.read_csv('../data/cleaned_data.csv', header=None,low_memory=False)"
   ]
  },
  {
   "cell_type": "code",
   "execution_count": 40,
   "metadata": {},
   "outputs": [],
   "source": [
    "# selecting relevant columns\n",
    "relevant_cols = ['TotalPremium', 'TotalClaims', 'Gender', 'PostalCode', 'Province', 'VehicleType', 'RegistrationYear', 'NewVehicle']\n",
    "\n",
    "df_relevant_cols = df[relevant_cols]"
   ]
  },
  {
   "cell_type": "code",
   "execution_count": 42,
   "metadata": {},
   "outputs": [
    {
     "name": "stdout",
     "output_type": "stream",
     "text": [
      "   Column Name  Missing Values  Percentage Missing\n",
      "2       Gender            9536            0.953507\n",
      "5  VehicleType             552            0.055195\n",
      "7   NewVehicle          153295           15.327998\n"
     ]
    }
   ],
   "source": [
    "# checking for columns with missing values\n",
    "missing_data = check_missing_data(df_relevant_cols)\n",
    "print(missing_data)"
   ]
  },
  {
   "cell_type": "code",
   "execution_count": 43,
   "metadata": {},
   "outputs": [],
   "source": [
    "# data cleaning\n",
    "df_relevant_cols.loc[:, 'VehicleType'] = df_relevant_cols['VehicleType'].fillna(df_relevant_cols['VehicleType'].mode()[0])\n",
    "df_relevant_cols.loc[:, 'NewVehicle'] = df_relevant_cols['NewVehicle'].fillna(df_relevant_cols['NewVehicle'].mode()[0])\n",
    "df_relevant_cols.loc[:, 'Gender'] = df_relevant_cols['Gender'].fillna(df_relevant_cols['Gender'].mode()[0])"
   ]
  },
  {
   "cell_type": "code",
   "execution_count": 44,
   "metadata": {},
   "outputs": [
    {
     "name": "stdout",
     "output_type": "stream",
     "text": [
      "Success: No missing values.\n"
     ]
    }
   ],
   "source": [
    "# checking for columns with missing values\n",
    "missing_data = check_missing_data(df_relevant_cols)\n",
    "print(missing_data)"
   ]
  },
  {
   "cell_type": "code",
   "execution_count": 45,
   "metadata": {},
   "outputs": [
    {
     "data": {
      "text/html": [
       "<div>\n",
       "<style scoped>\n",
       "    .dataframe tbody tr th:only-of-type {\n",
       "        vertical-align: middle;\n",
       "    }\n",
       "\n",
       "    .dataframe tbody tr th {\n",
       "        vertical-align: top;\n",
       "    }\n",
       "\n",
       "    .dataframe thead th {\n",
       "        text-align: right;\n",
       "    }\n",
       "</style>\n",
       "<table border=\"1\" class=\"dataframe\">\n",
       "  <thead>\n",
       "    <tr style=\"text-align: right;\">\n",
       "      <th></th>\n",
       "      <th>TotalPremium</th>\n",
       "      <th>TotalClaims</th>\n",
       "      <th>Gender</th>\n",
       "      <th>PostalCode</th>\n",
       "      <th>Province</th>\n",
       "      <th>VehicleType</th>\n",
       "      <th>RegistrationYear</th>\n",
       "      <th>NewVehicle</th>\n",
       "    </tr>\n",
       "  </thead>\n",
       "  <tbody>\n",
       "    <tr>\n",
       "      <th>0</th>\n",
       "      <td>21.929825</td>\n",
       "      <td>0.0</td>\n",
       "      <td>Not specified</td>\n",
       "      <td>1459</td>\n",
       "      <td>Gauteng</td>\n",
       "      <td>Passenger Vehicle</td>\n",
       "      <td>2004</td>\n",
       "      <td>More than 6 months</td>\n",
       "    </tr>\n",
       "    <tr>\n",
       "      <th>1</th>\n",
       "      <td>21.929825</td>\n",
       "      <td>0.0</td>\n",
       "      <td>Not specified</td>\n",
       "      <td>1459</td>\n",
       "      <td>Gauteng</td>\n",
       "      <td>Passenger Vehicle</td>\n",
       "      <td>2004</td>\n",
       "      <td>More than 6 months</td>\n",
       "    </tr>\n",
       "    <tr>\n",
       "      <th>2</th>\n",
       "      <td>0.000000</td>\n",
       "      <td>0.0</td>\n",
       "      <td>Not specified</td>\n",
       "      <td>1459</td>\n",
       "      <td>Gauteng</td>\n",
       "      <td>Passenger Vehicle</td>\n",
       "      <td>2004</td>\n",
       "      <td>More than 6 months</td>\n",
       "    </tr>\n",
       "    <tr>\n",
       "      <th>3</th>\n",
       "      <td>512.848070</td>\n",
       "      <td>0.0</td>\n",
       "      <td>Not specified</td>\n",
       "      <td>1459</td>\n",
       "      <td>Gauteng</td>\n",
       "      <td>Passenger Vehicle</td>\n",
       "      <td>2004</td>\n",
       "      <td>More than 6 months</td>\n",
       "    </tr>\n",
       "    <tr>\n",
       "      <th>4</th>\n",
       "      <td>0.000000</td>\n",
       "      <td>0.0</td>\n",
       "      <td>Not specified</td>\n",
       "      <td>1459</td>\n",
       "      <td>Gauteng</td>\n",
       "      <td>Passenger Vehicle</td>\n",
       "      <td>2004</td>\n",
       "      <td>More than 6 months</td>\n",
       "    </tr>\n",
       "    <tr>\n",
       "      <th>5</th>\n",
       "      <td>3.256435</td>\n",
       "      <td>0.0</td>\n",
       "      <td>Not specified</td>\n",
       "      <td>1459</td>\n",
       "      <td>Gauteng</td>\n",
       "      <td>Passenger Vehicle</td>\n",
       "      <td>2004</td>\n",
       "      <td>More than 6 months</td>\n",
       "    </tr>\n",
       "    <tr>\n",
       "      <th>6</th>\n",
       "      <td>50.474737</td>\n",
       "      <td>0.0</td>\n",
       "      <td>Not specified</td>\n",
       "      <td>1459</td>\n",
       "      <td>Gauteng</td>\n",
       "      <td>Passenger Vehicle</td>\n",
       "      <td>2004</td>\n",
       "      <td>More than 6 months</td>\n",
       "    </tr>\n",
       "    <tr>\n",
       "      <th>7</th>\n",
       "      <td>35.332316</td>\n",
       "      <td>0.0</td>\n",
       "      <td>Not specified</td>\n",
       "      <td>1459</td>\n",
       "      <td>Gauteng</td>\n",
       "      <td>Passenger Vehicle</td>\n",
       "      <td>2004</td>\n",
       "      <td>More than 6 months</td>\n",
       "    </tr>\n",
       "    <tr>\n",
       "      <th>8</th>\n",
       "      <td>0.000000</td>\n",
       "      <td>0.0</td>\n",
       "      <td>Not specified</td>\n",
       "      <td>1459</td>\n",
       "      <td>Gauteng</td>\n",
       "      <td>Passenger Vehicle</td>\n",
       "      <td>2004</td>\n",
       "      <td>More than 6 months</td>\n",
       "    </tr>\n",
       "    <tr>\n",
       "      <th>9</th>\n",
       "      <td>1.009474</td>\n",
       "      <td>0.0</td>\n",
       "      <td>Not specified</td>\n",
       "      <td>1459</td>\n",
       "      <td>Gauteng</td>\n",
       "      <td>Passenger Vehicle</td>\n",
       "      <td>2004</td>\n",
       "      <td>More than 6 months</td>\n",
       "    </tr>\n",
       "  </tbody>\n",
       "</table>\n",
       "</div>"
      ],
      "text/plain": [
       "   TotalPremium  TotalClaims         Gender  PostalCode Province  \\\n",
       "0     21.929825          0.0  Not specified        1459  Gauteng   \n",
       "1     21.929825          0.0  Not specified        1459  Gauteng   \n",
       "2      0.000000          0.0  Not specified        1459  Gauteng   \n",
       "3    512.848070          0.0  Not specified        1459  Gauteng   \n",
       "4      0.000000          0.0  Not specified        1459  Gauteng   \n",
       "5      3.256435          0.0  Not specified        1459  Gauteng   \n",
       "6     50.474737          0.0  Not specified        1459  Gauteng   \n",
       "7     35.332316          0.0  Not specified        1459  Gauteng   \n",
       "8      0.000000          0.0  Not specified        1459  Gauteng   \n",
       "9      1.009474          0.0  Not specified        1459  Gauteng   \n",
       "\n",
       "         VehicleType  RegistrationYear          NewVehicle  \n",
       "0  Passenger Vehicle              2004  More than 6 months  \n",
       "1  Passenger Vehicle              2004  More than 6 months  \n",
       "2  Passenger Vehicle              2004  More than 6 months  \n",
       "3  Passenger Vehicle              2004  More than 6 months  \n",
       "4  Passenger Vehicle              2004  More than 6 months  \n",
       "5  Passenger Vehicle              2004  More than 6 months  \n",
       "6  Passenger Vehicle              2004  More than 6 months  \n",
       "7  Passenger Vehicle              2004  More than 6 months  \n",
       "8  Passenger Vehicle              2004  More than 6 months  \n",
       "9  Passenger Vehicle              2004  More than 6 months  "
      ]
     },
     "execution_count": 45,
     "metadata": {},
     "output_type": "execute_result"
    }
   ],
   "source": [
    "df_relevant_cols.head(10)"
   ]
  },
  {
   "cell_type": "markdown",
   "metadata": {},
   "source": [
    "Encoding categorical data"
   ]
  },
  {
   "cell_type": "code",
   "execution_count": 46,
   "metadata": {},
   "outputs": [
    {
     "name": "stderr",
     "output_type": "stream",
     "text": [
      "C:\\Users\\Firew Ayele\\AppData\\Local\\Temp\\ipykernel_18500\\1617156014.py:5: SettingWithCopyWarning: \n",
      "A value is trying to be set on a copy of a slice from a DataFrame.\n",
      "Try using .loc[row_indexer,col_indexer] = value instead\n",
      "\n",
      "See the caveats in the documentation: https://pandas.pydata.org/pandas-docs/stable/user_guide/indexing.html#returning-a-view-versus-a-copy\n",
      "  df_relevant_cols[feature] = encoder.fit_transform(df_relevant_cols[feature])\n",
      "C:\\Users\\Firew Ayele\\AppData\\Local\\Temp\\ipykernel_18500\\1617156014.py:5: SettingWithCopyWarning: \n",
      "A value is trying to be set on a copy of a slice from a DataFrame.\n",
      "Try using .loc[row_indexer,col_indexer] = value instead\n",
      "\n",
      "See the caveats in the documentation: https://pandas.pydata.org/pandas-docs/stable/user_guide/indexing.html#returning-a-view-versus-a-copy\n",
      "  df_relevant_cols[feature] = encoder.fit_transform(df_relevant_cols[feature])\n",
      "C:\\Users\\Firew Ayele\\AppData\\Local\\Temp\\ipykernel_18500\\1617156014.py:5: SettingWithCopyWarning: \n",
      "A value is trying to be set on a copy of a slice from a DataFrame.\n",
      "Try using .loc[row_indexer,col_indexer] = value instead\n",
      "\n",
      "See the caveats in the documentation: https://pandas.pydata.org/pandas-docs/stable/user_guide/indexing.html#returning-a-view-versus-a-copy\n",
      "  df_relevant_cols[feature] = encoder.fit_transform(df_relevant_cols[feature])\n",
      "C:\\Users\\Firew Ayele\\AppData\\Local\\Temp\\ipykernel_18500\\1617156014.py:5: SettingWithCopyWarning: \n",
      "A value is trying to be set on a copy of a slice from a DataFrame.\n",
      "Try using .loc[row_indexer,col_indexer] = value instead\n",
      "\n",
      "See the caveats in the documentation: https://pandas.pydata.org/pandas-docs/stable/user_guide/indexing.html#returning-a-view-versus-a-copy\n",
      "  df_relevant_cols[feature] = encoder.fit_transform(df_relevant_cols[feature])\n",
      "C:\\Users\\Firew Ayele\\AppData\\Local\\Temp\\ipykernel_18500\\1617156014.py:5: SettingWithCopyWarning: \n",
      "A value is trying to be set on a copy of a slice from a DataFrame.\n",
      "Try using .loc[row_indexer,col_indexer] = value instead\n",
      "\n",
      "See the caveats in the documentation: https://pandas.pydata.org/pandas-docs/stable/user_guide/indexing.html#returning-a-view-versus-a-copy\n",
      "  df_relevant_cols[feature] = encoder.fit_transform(df_relevant_cols[feature])\n",
      "C:\\Users\\Firew Ayele\\AppData\\Local\\Temp\\ipykernel_18500\\1617156014.py:5: SettingWithCopyWarning: \n",
      "A value is trying to be set on a copy of a slice from a DataFrame.\n",
      "Try using .loc[row_indexer,col_indexer] = value instead\n",
      "\n",
      "See the caveats in the documentation: https://pandas.pydata.org/pandas-docs/stable/user_guide/indexing.html#returning-a-view-versus-a-copy\n",
      "  df_relevant_cols[feature] = encoder.fit_transform(df_relevant_cols[feature])\n"
     ]
    }
   ],
   "source": [
    "\n",
    "categorical_features = ['Province', 'PostalCode', 'Gender', 'VehicleType', 'RegistrationYear', 'NewVehicle']\n",
    "encoder = LabelEncoder()\n",
    "\n",
    "for feature in categorical_features:\n",
    "    df_relevant_cols[feature] = encoder.fit_transform(df_relevant_cols[feature])"
   ]
  },
  {
   "cell_type": "code",
   "execution_count": 47,
   "metadata": {},
   "outputs": [
    {
     "data": {
      "text/html": [
       "<div>\n",
       "<style scoped>\n",
       "    .dataframe tbody tr th:only-of-type {\n",
       "        vertical-align: middle;\n",
       "    }\n",
       "\n",
       "    .dataframe tbody tr th {\n",
       "        vertical-align: top;\n",
       "    }\n",
       "\n",
       "    .dataframe thead th {\n",
       "        text-align: right;\n",
       "    }\n",
       "</style>\n",
       "<table border=\"1\" class=\"dataframe\">\n",
       "  <thead>\n",
       "    <tr style=\"text-align: right;\">\n",
       "      <th></th>\n",
       "      <th>TotalPremium</th>\n",
       "      <th>TotalClaims</th>\n",
       "      <th>Gender</th>\n",
       "      <th>PostalCode</th>\n",
       "      <th>Province</th>\n",
       "      <th>VehicleType</th>\n",
       "      <th>RegistrationYear</th>\n",
       "      <th>NewVehicle</th>\n",
       "    </tr>\n",
       "  </thead>\n",
       "  <tbody>\n",
       "    <tr>\n",
       "      <th>0</th>\n",
       "      <td>21.929825</td>\n",
       "      <td>0.0</td>\n",
       "      <td>2</td>\n",
       "      <td>261</td>\n",
       "      <td>2</td>\n",
       "      <td>4</td>\n",
       "      <td>13</td>\n",
       "      <td>1</td>\n",
       "    </tr>\n",
       "    <tr>\n",
       "      <th>1</th>\n",
       "      <td>21.929825</td>\n",
       "      <td>0.0</td>\n",
       "      <td>2</td>\n",
       "      <td>261</td>\n",
       "      <td>2</td>\n",
       "      <td>4</td>\n",
       "      <td>13</td>\n",
       "      <td>1</td>\n",
       "    </tr>\n",
       "    <tr>\n",
       "      <th>2</th>\n",
       "      <td>0.000000</td>\n",
       "      <td>0.0</td>\n",
       "      <td>2</td>\n",
       "      <td>261</td>\n",
       "      <td>2</td>\n",
       "      <td>4</td>\n",
       "      <td>13</td>\n",
       "      <td>1</td>\n",
       "    </tr>\n",
       "    <tr>\n",
       "      <th>3</th>\n",
       "      <td>512.848070</td>\n",
       "      <td>0.0</td>\n",
       "      <td>2</td>\n",
       "      <td>261</td>\n",
       "      <td>2</td>\n",
       "      <td>4</td>\n",
       "      <td>13</td>\n",
       "      <td>1</td>\n",
       "    </tr>\n",
       "    <tr>\n",
       "      <th>4</th>\n",
       "      <td>0.000000</td>\n",
       "      <td>0.0</td>\n",
       "      <td>2</td>\n",
       "      <td>261</td>\n",
       "      <td>2</td>\n",
       "      <td>4</td>\n",
       "      <td>13</td>\n",
       "      <td>1</td>\n",
       "    </tr>\n",
       "    <tr>\n",
       "      <th>5</th>\n",
       "      <td>3.256435</td>\n",
       "      <td>0.0</td>\n",
       "      <td>2</td>\n",
       "      <td>261</td>\n",
       "      <td>2</td>\n",
       "      <td>4</td>\n",
       "      <td>13</td>\n",
       "      <td>1</td>\n",
       "    </tr>\n",
       "    <tr>\n",
       "      <th>6</th>\n",
       "      <td>50.474737</td>\n",
       "      <td>0.0</td>\n",
       "      <td>2</td>\n",
       "      <td>261</td>\n",
       "      <td>2</td>\n",
       "      <td>4</td>\n",
       "      <td>13</td>\n",
       "      <td>1</td>\n",
       "    </tr>\n",
       "    <tr>\n",
       "      <th>7</th>\n",
       "      <td>35.332316</td>\n",
       "      <td>0.0</td>\n",
       "      <td>2</td>\n",
       "      <td>261</td>\n",
       "      <td>2</td>\n",
       "      <td>4</td>\n",
       "      <td>13</td>\n",
       "      <td>1</td>\n",
       "    </tr>\n",
       "    <tr>\n",
       "      <th>8</th>\n",
       "      <td>0.000000</td>\n",
       "      <td>0.0</td>\n",
       "      <td>2</td>\n",
       "      <td>261</td>\n",
       "      <td>2</td>\n",
       "      <td>4</td>\n",
       "      <td>13</td>\n",
       "      <td>1</td>\n",
       "    </tr>\n",
       "    <tr>\n",
       "      <th>9</th>\n",
       "      <td>1.009474</td>\n",
       "      <td>0.0</td>\n",
       "      <td>2</td>\n",
       "      <td>261</td>\n",
       "      <td>2</td>\n",
       "      <td>4</td>\n",
       "      <td>13</td>\n",
       "      <td>1</td>\n",
       "    </tr>\n",
       "  </tbody>\n",
       "</table>\n",
       "</div>"
      ],
      "text/plain": [
       "   TotalPremium  TotalClaims  Gender  PostalCode  Province  VehicleType  \\\n",
       "0     21.929825          0.0       2         261         2            4   \n",
       "1     21.929825          0.0       2         261         2            4   \n",
       "2      0.000000          0.0       2         261         2            4   \n",
       "3    512.848070          0.0       2         261         2            4   \n",
       "4      0.000000          0.0       2         261         2            4   \n",
       "5      3.256435          0.0       2         261         2            4   \n",
       "6     50.474737          0.0       2         261         2            4   \n",
       "7     35.332316          0.0       2         261         2            4   \n",
       "8      0.000000          0.0       2         261         2            4   \n",
       "9      1.009474          0.0       2         261         2            4   \n",
       "\n",
       "   RegistrationYear  NewVehicle  \n",
       "0                13           1  \n",
       "1                13           1  \n",
       "2                13           1  \n",
       "3                13           1  \n",
       "4                13           1  \n",
       "5                13           1  \n",
       "6                13           1  \n",
       "7                13           1  \n",
       "8                13           1  \n",
       "9                13           1  "
      ]
     },
     "execution_count": 47,
     "metadata": {},
     "output_type": "execute_result"
    }
   ],
   "source": [
    "df_relevant_cols.head(10)"
   ]
  },
  {
   "cell_type": "markdown",
   "metadata": {},
   "source": [
    "Split data into features and target variable"
   ]
  },
  {
   "cell_type": "code",
   "execution_count": 48,
   "metadata": {},
   "outputs": [],
   "source": [
    "\n",
    "X = df_relevant_cols.drop(['TotalClaims', 'TotalPremium'], axis=1)\n",
    "y = df_relevant_cols['TotalClaims']  # we are predicting TotalClaims\n"
   ]
  },
  {
   "cell_type": "code",
   "execution_count": 69,
   "metadata": {},
   "outputs": [
    {
     "name": "stderr",
     "output_type": "stream",
     "text": [
      "C:\\Users\\Firew Ayele\\AppData\\Local\\Temp\\ipykernel_18500\\2236652744.py:1: SettingWithCopyWarning: \n",
      "A value is trying to be set on a copy of a slice from a DataFrame.\n",
      "Try using .loc[row_indexer,col_indexer] = value instead\n",
      "\n",
      "See the caveats in the documentation: https://pandas.pydata.org/pandas-docs/stable/user_guide/indexing.html#returning-a-view-versus-a-copy\n",
      "  df_relevant_cols['ClaimRatio'] = df_relevant_cols['TotalClaims'] / df_relevant_cols['TotalPremium']\n"
     ]
    }
   ],
   "source": [
    "df_relevant_cols['ClaimRatio'] = df_relevant_cols['TotalClaims'] / df_relevant_cols['TotalPremium']\n"
   ]
  },
  {
   "cell_type": "code",
   "execution_count": 68,
   "metadata": {},
   "outputs": [
    {
     "name": "stdout",
     "output_type": "stream",
     "text": [
      "0          0.0\n",
      "1          0.0\n",
      "2          NaN\n",
      "3          0.0\n",
      "4          NaN\n",
      "          ... \n",
      "1000093    0.0\n",
      "1000094    0.0\n",
      "1000095    0.0\n",
      "1000096    0.0\n",
      "1000097    0.0\n",
      "Name: ClaimRatio, Length: 1000098, dtype: float64\n"
     ]
    }
   ],
   "source": [
    "print(df_relevant_cols['ClaimRatio'])"
   ]
  },
  {
   "cell_type": "code",
   "execution_count": 49,
   "metadata": {},
   "outputs": [],
   "source": [
    "# Train-test split\n",
    "X_train, X_test, y_train, y_test = train_test_split(X, y, test_size=0.2, random_state=42)\n"
   ]
  },
  {
   "cell_type": "markdown",
   "metadata": {},
   "source": [
    "# Build Models"
   ]
  },
  {
   "cell_type": "markdown",
   "metadata": {},
   "source": [
    "Linear Regression"
   ]
  },
  {
   "cell_type": "code",
   "execution_count": 50,
   "metadata": {},
   "outputs": [],
   "source": [
    "# Initialize and train the model\n",
    "lr_model = LinearRegression()\n",
    "lr_model.fit(X_train, y_train)\n",
    "\n",
    "# Predictions\n",
    "y_pred_lr = lr_model.predict(X_test)"
   ]
  },
  {
   "cell_type": "markdown",
   "metadata": {},
   "source": [
    "Decision Tree"
   ]
  },
  {
   "cell_type": "code",
   "execution_count": 62,
   "metadata": {},
   "outputs": [],
   "source": [
    "# Initialize and train the model\n",
    "dt_model = DecisionTreeRegressor(random_state=42)\n",
    "dt_model.fit(X_train, y_train)\n",
    "\n",
    "# Predictions\n",
    "y_pred_dt = dt_model.predict(X_test)"
   ]
  },
  {
   "cell_type": "code",
   "execution_count": 63,
   "metadata": {},
   "outputs": [],
   "source": [
    "# Random Forest\n",
    "rf_model = RandomForestRegressor(n_estimators=100, random_state=42)\n",
    "rf_model.fit(X_train, y_train)\n",
    "y_pred_rf = rf_model.predict(X_test)"
   ]
  },
  {
   "cell_type": "code",
   "execution_count": 64,
   "metadata": {},
   "outputs": [],
   "source": [
    "from xgboost import XGBRegressor\n",
    "# XGBoost\n",
    "xgb_model = XGBRegressor(n_estimators=100, random_state=42)\n",
    "xgb_model.fit(X_train, y_train)\n",
    "y_pred_xgb = xgb_model.predict(X_test)"
   ]
  },
  {
   "cell_type": "markdown",
   "metadata": {},
   "source": [
    "Model Evaluation"
   ]
  },
  {
   "cell_type": "code",
   "execution_count": 71,
   "metadata": {},
   "outputs": [],
   "source": [
    "# Function to evaluate models\n",
    "def evaluate_model(y_test, y_pred):\n",
    "    mae = mean_absolute_error(y_test, y_pred)\n",
    "    mse = mean_squared_error(y_test, y_pred)\n",
    "    rmse = mse ** 0.5\n",
    "    r2 = r2_score(y_test, y_pred)\n",
    "    return mae, mse, rmse, r2"
   ]
  },
  {
   "cell_type": "code",
   "execution_count": 74,
   "metadata": {},
   "outputs": [
    {
     "name": "stdout",
     "output_type": "stream",
     "text": [
      "Linear Regression: MAE=129.7813507781326, MSE=4886080.188676738, RMSE=2210.447961087693, R²=6.280666758573528e-05\n",
      "Decision Tree: MAE=129.06420618037762, MSE=4907972.824057604, RMSE=2215.3945075443344, R²=-0.004417525118234122\n",
      "Random Forest: MAE=128.6475483446711, MSE=4908052.174972609, RMSE=2215.412416452659, R²=-0.00443376429732556\n"
     ]
    }
   ],
   "source": [
    "# Evaluate each model\n",
    "metrics_lr = evaluate_model(y_test, y_pred_lr)\n",
    "metrics_dt = evaluate_model(y_test, y_pred_dt)\n",
    "metrics_rf = evaluate_model(y_test, y_pred_rf)\n",
    "\n",
    "print(f'Linear Regression: MAE={metrics_lr[0]}, MSE={metrics_lr[1]}, RMSE={metrics_lr[2]}, R²={metrics_lr[3]}')\n",
    "print(f'Decision Tree: MAE={metrics_dt[0]}, MSE={metrics_dt[1]}, RMSE={metrics_dt[2]}, R²={metrics_dt[3]}')\n",
    "print(f'Random Forest: MAE={metrics_rf[0]}, MSE={metrics_rf[1]}, RMSE={metrics_rf[2]}, R²={metrics_rf[3]}')\n"
   ]
  },
  {
   "cell_type": "markdown",
   "metadata": {},
   "source": [
    "Feature Importance Analysis"
   ]
  },
  {
   "cell_type": "code",
   "execution_count": 75,
   "metadata": {},
   "outputs": [],
   "source": [
    "# def evaluate_model(y_test, y_pred, model_name):\n",
    "#     mse = mean_squared_error(y_test, y_pred)\n",
    "#     r2 = r2_score(y_test, y_pred)\n",
    "#     print(f\"{model_name} - Mean Squared Error: {mse:.2f}, R2 Score: {r2:.2f}\")\n",
    "\n",
    "# evaluate_model(y_test, y_pred_lr, \"Linear Regression\")\n",
    "# evaluate_model(y_test, y_pred_rf, \"Random Forest\")\n",
    "# evaluate_model(y_test, y_pred_xgb, \"XGBoost\")"
   ]
  },
  {
   "cell_type": "code",
   "execution_count": 76,
   "metadata": {},
   "outputs": [],
   "source": [
    "# # Step 5: Feature Importance with SHAP (for Random Forest)\n",
    "# explainer = shap.TreeExplainer(rf_model)\n",
    "# shap_values = explainer.shap_values(X_test)\n",
    "\n",
    "# # SHAP Summary Plot\n",
    "# shap.summary_plot(shap_values, X_test)\n",
    "\n",
    "# # SHAP Dependence Plot (for specific feature)\n",
    "# # shap.dependence_plot(\"ClaimRatio\", shap_values, X_test)"
   ]
  }
 ],
 "metadata": {
  "kernelspec": {
   "display_name": ".venv_insurance",
   "language": "python",
   "name": "python3"
  },
  "language_info": {
   "codemirror_mode": {
    "name": "ipython",
    "version": 3
   },
   "file_extension": ".py",
   "mimetype": "text/x-python",
   "name": "python",
   "nbconvert_exporter": "python",
   "pygments_lexer": "ipython3",
   "version": "3.10.6"
  }
 },
 "nbformat": 4,
 "nbformat_minor": 2
}
