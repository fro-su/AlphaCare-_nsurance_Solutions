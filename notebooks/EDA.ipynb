{
 "cells": [
  {
   "cell_type": "code",
   "execution_count": 7,
   "metadata": {},
   "outputs": [
    {
     "name": "stdout",
     "output_type": "stream",
     "text": [
      "   UnderwrittenCoverID  PolicyID     TransactionMonth  IsVATRegistered  \\\n",
      "0               145249     12827  2015-03-01 00:00:00             True   \n",
      "1               145249     12827  2015-05-01 00:00:00             True   \n",
      "2               145249     12827  2015-07-01 00:00:00             True   \n",
      "3               145255     12827  2015-05-01 00:00:00             True   \n",
      "4               145255     12827  2015-07-01 00:00:00             True   \n",
      "\n",
      "  Citizenship          LegalType Title Language                 Bank  \\\n",
      "0              Close Corporation    Mr  English  First National Bank   \n",
      "1              Close Corporation    Mr  English  First National Bank   \n",
      "2              Close Corporation    Mr  English  First National Bank   \n",
      "3              Close Corporation    Mr  English  First National Bank   \n",
      "4              Close Corporation    Mr  English  First National Bank   \n",
      "\n",
      "       AccountType  ...                    ExcessSelected CoverCategory  \\\n",
      "0  Current account  ...             Mobility - Windscreen    Windscreen   \n",
      "1  Current account  ...             Mobility - Windscreen    Windscreen   \n",
      "2  Current account  ...             Mobility - Windscreen    Windscreen   \n",
      "3  Current account  ...  Mobility - Metered Taxis - R2000    Own damage   \n",
      "4  Current account  ...  Mobility - Metered Taxis - R2000    Own damage   \n",
      "\n",
      "    CoverType            CoverGroup              Section  \\\n",
      "0  Windscreen  Comprehensive - Taxi  Motor Comprehensive   \n",
      "1  Windscreen  Comprehensive - Taxi  Motor Comprehensive   \n",
      "2  Windscreen  Comprehensive - Taxi  Motor Comprehensive   \n",
      "3  Own Damage  Comprehensive - Taxi  Motor Comprehensive   \n",
      "4  Own Damage  Comprehensive - Taxi  Motor Comprehensive   \n",
      "\n",
      "                           Product StatutoryClass StatutoryRiskType  \\\n",
      "0  Mobility Metered Taxis: Monthly     Commercial     IFRS Constant   \n",
      "1  Mobility Metered Taxis: Monthly     Commercial     IFRS Constant   \n",
      "2  Mobility Metered Taxis: Monthly     Commercial     IFRS Constant   \n",
      "3  Mobility Metered Taxis: Monthly     Commercial     IFRS Constant   \n",
      "4  Mobility Metered Taxis: Monthly     Commercial     IFRS Constant   \n",
      "\n",
      "   TotalPremium TotalClaims  \n",
      "0     21.929825         0.0  \n",
      "1     21.929825         0.0  \n",
      "2      0.000000         0.0  \n",
      "3    512.848070         0.0  \n",
      "4      0.000000         0.0  \n",
      "\n",
      "[5 rows x 52 columns]\n",
      "UnderwrittenCoverID           int64\n",
      "PolicyID                      int64\n",
      "TransactionMonth             object\n",
      "IsVATRegistered                bool\n",
      "Citizenship                  object\n",
      "LegalType                    object\n",
      "Title                        object\n",
      "Language                     object\n",
      "Bank                         object\n",
      "AccountType                  object\n",
      "MaritalStatus                object\n",
      "Gender                       object\n",
      "Country                      object\n",
      "Province                     object\n",
      "PostalCode                    int64\n",
      "MainCrestaZone               object\n",
      "SubCrestaZone                object\n",
      "ItemType                     object\n",
      "mmcode                      float64\n",
      "VehicleType                  object\n",
      "RegistrationYear              int64\n",
      "make                         object\n",
      "Model                        object\n",
      "Cylinders                   float64\n",
      "cubiccapacity               float64\n",
      "kilowatts                   float64\n",
      "bodytype                     object\n",
      "NumberOfDoors               float64\n",
      "VehicleIntroDate             object\n",
      "CustomValueEstimate         float64\n",
      "AlarmImmobiliser             object\n",
      "TrackingDevice               object\n",
      "CapitalOutstanding           object\n",
      "NewVehicle                   object\n",
      "WrittenOff                   object\n",
      "Rebuilt                      object\n",
      "Converted                    object\n",
      "CrossBorder                  object\n",
      "NumberOfVehiclesInFleet     float64\n",
      "SumInsured                  float64\n",
      "TermFrequency                object\n",
      "CalculatedPremiumPerTerm    float64\n",
      "ExcessSelected               object\n",
      "CoverCategory                object\n",
      "CoverType                    object\n",
      "CoverGroup                   object\n",
      "Section                      object\n",
      "Product                      object\n",
      "StatutoryClass               object\n",
      "StatutoryRiskType            object\n",
      "TotalPremium                float64\n",
      "TotalClaims                 float64\n",
      "dtype: object\n"
     ]
    }
   ],
   "source": [
    "import pandas as pd\n",
    "import matplotlib.pyplot as plt\n",
    "import seaborn as sns\n",
    "import numpy as np\n",
    "\n",
    "# Load the data\n",
    "data = pd.read_csv('../data/MachineLearningRating_v3.txt', sep='|', low_memory=False)\n",
    "\n",
    "# Display the first few rows of the DataFrame\n",
    "print(data.head())\n",
    "# Check the data types of each column\n",
    "print(data.dtypes)"
   ]
  },
  {
   "cell_type": "markdown",
   "metadata": {},
   "source": [
    " Check for missing values"
   ]
  },
  {
   "cell_type": "code",
   "execution_count": 8,
   "metadata": {},
   "outputs": [
    {
     "name": "stdout",
     "output_type": "stream",
     "text": [
      "Missing values:\n",
      "UnderwrittenCoverID               0\n",
      "PolicyID                          0\n",
      "TransactionMonth                  0\n",
      "IsVATRegistered                   0\n",
      "Citizenship                       0\n",
      "LegalType                         0\n",
      "Title                             0\n",
      "Language                          0\n",
      "Bank                         145961\n",
      "AccountType                   40232\n",
      "MaritalStatus                  8259\n",
      "Gender                         9536\n",
      "Country                           0\n",
      "Province                          0\n",
      "PostalCode                        0\n",
      "MainCrestaZone                    0\n",
      "SubCrestaZone                     0\n",
      "ItemType                          0\n",
      "mmcode                          552\n",
      "VehicleType                     552\n",
      "RegistrationYear                  0\n",
      "make                            552\n",
      "Model                           552\n",
      "Cylinders                       552\n",
      "cubiccapacity                   552\n",
      "kilowatts                       552\n",
      "bodytype                        552\n",
      "NumberOfDoors                   552\n",
      "VehicleIntroDate                552\n",
      "CustomValueEstimate          779642\n",
      "AlarmImmobiliser                  0\n",
      "TrackingDevice                    0\n",
      "CapitalOutstanding                2\n",
      "NewVehicle                   153295\n",
      "WrittenOff                   641901\n",
      "Rebuilt                      641901\n",
      "Converted                    641901\n",
      "CrossBorder                  999400\n",
      "NumberOfVehiclesInFleet     1000098\n",
      "SumInsured                        0\n",
      "TermFrequency                     0\n",
      "CalculatedPremiumPerTerm          0\n",
      "ExcessSelected                    0\n",
      "CoverCategory                     0\n",
      "CoverType                         0\n",
      "CoverGroup                        0\n",
      "Section                           0\n",
      "Product                           0\n",
      "StatutoryClass                    0\n",
      "StatutoryRiskType                 0\n",
      "TotalPremium                      0\n",
      "TotalClaims                       0\n",
      "dtype: int64\n"
     ]
    }
   ],
   "source": [
    "\n",
    "missing_values = data.isnull().sum()\n",
    "print(\"Missing values:\")\n",
    "print(missing_values)"
   ]
  },
  {
   "cell_type": "markdown",
   "metadata": {},
   "source": [
    "Handle missing values\n",
    " For numerical columns, fill missing values with mean or median"
   ]
  },
  {
   "cell_type": "code",
   "execution_count": 9,
   "metadata": {},
   "outputs": [
    {
     "name": "stdout",
     "output_type": "stream",
     "text": [
      "         UnderwrittenCoverID  PolicyID  PostalCode      mmcode  \\\n",
      "0                     145249     12827        1459  44069150.0   \n",
      "1                     145249     12827        1459  44069150.0   \n",
      "2                     145249     12827        1459  44069150.0   \n",
      "3                     145255     12827        1459  44069150.0   \n",
      "4                     145255     12827        1459  44069150.0   \n",
      "...                      ...       ...         ...         ...   \n",
      "1000093                31520       389        7493   4614100.0   \n",
      "1000094                31520       389        7493   4614100.0   \n",
      "1000095                31520       389        7493   4614100.0   \n",
      "1000096                31519       389        7493   4614100.0   \n",
      "1000097                31519       389        7493   4614100.0   \n",
      "\n",
      "         RegistrationYear  Cylinders  cubiccapacity  kilowatts  NumberOfDoors  \\\n",
      "0                    2004        6.0         2597.0      130.0            4.0   \n",
      "1                    2004        6.0         2597.0      130.0            4.0   \n",
      "2                    2004        6.0         2597.0      130.0            4.0   \n",
      "3                    2004        6.0         2597.0      130.0            4.0   \n",
      "4                    2004        6.0         2597.0      130.0            4.0   \n",
      "...                   ...        ...            ...        ...            ...   \n",
      "1000093              2013        4.0         2693.0      110.0            4.0   \n",
      "1000094              2013        4.0         2693.0      110.0            4.0   \n",
      "1000095              2013        4.0         2693.0      110.0            4.0   \n",
      "1000096              2013        4.0         2693.0      110.0            4.0   \n",
      "1000097              2013        4.0         2693.0      110.0            4.0   \n",
      "\n",
      "         CustomValueEstimate  NumberOfVehiclesInFleet  SumInsured  \\\n",
      "0                   119300.0                      NaN        0.01   \n",
      "1                   119300.0                      NaN        0.01   \n",
      "2                   119300.0                      NaN        0.01   \n",
      "3                   119300.0                      NaN   119300.00   \n",
      "4                   119300.0                      NaN   119300.00   \n",
      "...                      ...                      ...         ...   \n",
      "1000093             220000.0                      NaN   500000.00   \n",
      "1000094             220000.0                      NaN   500000.00   \n",
      "1000095             220000.0                      NaN   500000.00   \n",
      "1000096             220000.0                      NaN  5000000.00   \n",
      "1000097             220000.0                      NaN  5000000.00   \n",
      "\n",
      "         CalculatedPremiumPerTerm  TotalPremium  TotalClaims  \n",
      "0                         25.0000     21.929825          0.0  \n",
      "1                         25.0000     21.929825          0.0  \n",
      "2                         25.0000      0.000000          0.0  \n",
      "3                        584.6468    512.848070          0.0  \n",
      "4                        584.6468      0.000000          0.0  \n",
      "...                           ...           ...          ...  \n",
      "1000093                  395.8481    347.235175          0.0  \n",
      "1000094                  395.8481    347.235175          0.0  \n",
      "1000095                  395.8481    347.235175          0.0  \n",
      "1000096                    2.6391      2.315000          0.0  \n",
      "1000097                    2.6391      2.315000          0.0  \n",
      "\n",
      "[1000098 rows x 15 columns]\n"
     ]
    }
   ],
   "source": [
    "numerical_cols = data.select_dtypes(include=['int64', 'float64']).columns\n",
    "data[numerical_cols] = data[numerical_cols].fillna(data[numerical_cols].median())\n",
    "print(data[numerical_cols])"
   ]
  },
  {
   "cell_type": "markdown",
   "metadata": {},
   "source": [
    "For categorical columns, fill missing values with mode"
   ]
  },
  {
   "cell_type": "code",
   "execution_count": 10,
   "metadata": {},
   "outputs": [
    {
     "name": "stdout",
     "output_type": "stream",
     "text": [
      "            TransactionMonth Citizenship          LegalType Title Language  \\\n",
      "0        2015-03-01 00:00:00              Close Corporation    Mr  English   \n",
      "1        2015-05-01 00:00:00              Close Corporation    Mr  English   \n",
      "2        2015-07-01 00:00:00              Close Corporation    Mr  English   \n",
      "3        2015-05-01 00:00:00              Close Corporation    Mr  English   \n",
      "4        2015-07-01 00:00:00              Close Corporation    Mr  English   \n",
      "...                      ...         ...                ...   ...      ...   \n",
      "1000093  2015-04-01 00:00:00          ZW         Individual    Mr  English   \n",
      "1000094  2015-06-01 00:00:00          ZW         Individual    Mr  English   \n",
      "1000095  2015-08-01 00:00:00          ZW         Individual    Mr  English   \n",
      "1000096  2014-07-01 00:00:00          ZW         Individual    Mr  English   \n",
      "1000097  2015-02-01 00:00:00          ZW         Individual    Mr  English   \n",
      "\n",
      "                        Bank      AccountType  MaritalStatus         Gender  \\\n",
      "0        First National Bank  Current account  Not specified  Not specified   \n",
      "1        First National Bank  Current account  Not specified  Not specified   \n",
      "2        First National Bank  Current account  Not specified  Not specified   \n",
      "3        First National Bank  Current account  Not specified  Not specified   \n",
      "4        First National Bank  Current account  Not specified  Not specified   \n",
      "...                      ...              ...            ...            ...   \n",
      "1000093            ABSA Bank  Savings account         Single           Male   \n",
      "1000094            ABSA Bank  Savings account         Single           Male   \n",
      "1000095            ABSA Bank  Savings account         Single           Male   \n",
      "1000096            ABSA Bank  Savings account         Single           Male   \n",
      "1000097            ABSA Bank  Savings account         Single           Male   \n",
      "\n",
      "              Country  ... CrossBorder TermFrequency  \\\n",
      "0        South Africa  ...          No       Monthly   \n",
      "1        South Africa  ...          No       Monthly   \n",
      "2        South Africa  ...          No       Monthly   \n",
      "3        South Africa  ...          No       Monthly   \n",
      "4        South Africa  ...          No       Monthly   \n",
      "...               ...  ...         ...           ...   \n",
      "1000093  South Africa  ...          No       Monthly   \n",
      "1000094  South Africa  ...          No       Monthly   \n",
      "1000095  South Africa  ...          No       Monthly   \n",
      "1000096  South Africa  ...          No       Monthly   \n",
      "1000097  South Africa  ...          No       Monthly   \n",
      "\n",
      "                           ExcessSelected        CoverCategory  \\\n",
      "0                   Mobility - Windscreen           Windscreen   \n",
      "1                   Mobility - Windscreen           Windscreen   \n",
      "2                   Mobility - Windscreen           Windscreen   \n",
      "3        Mobility - Metered Taxis - R2000           Own damage   \n",
      "4        Mobility - Metered Taxis - R2000           Own damage   \n",
      "...                                   ...                  ...   \n",
      "1000093                         No excess          Third Party   \n",
      "1000094                         No excess          Third Party   \n",
      "1000095                         No excess          Third Party   \n",
      "1000096                         No excess  Passenger Liability   \n",
      "1000097                         No excess  Passenger Liability   \n",
      "\n",
      "                   CoverType            CoverGroup              Section  \\\n",
      "0                 Windscreen  Comprehensive - Taxi  Motor Comprehensive   \n",
      "1                 Windscreen  Comprehensive - Taxi  Motor Comprehensive   \n",
      "2                 Windscreen  Comprehensive - Taxi  Motor Comprehensive   \n",
      "3                 Own Damage  Comprehensive - Taxi  Motor Comprehensive   \n",
      "4                 Own Damage  Comprehensive - Taxi  Motor Comprehensive   \n",
      "...                      ...                   ...                  ...   \n",
      "1000093          Third Party  Comprehensive - Taxi  Motor Comprehensive   \n",
      "1000094          Third Party  Comprehensive - Taxi  Motor Comprehensive   \n",
      "1000095          Third Party  Comprehensive - Taxi  Motor Comprehensive   \n",
      "1000096  Passenger Liability  Comprehensive - Taxi  Motor Comprehensive   \n",
      "1000097  Passenger Liability  Comprehensive - Taxi  Motor Comprehensive   \n",
      "\n",
      "                                    Product StatutoryClass StatutoryRiskType  \n",
      "0           Mobility Metered Taxis: Monthly     Commercial     IFRS Constant  \n",
      "1           Mobility Metered Taxis: Monthly     Commercial     IFRS Constant  \n",
      "2           Mobility Metered Taxis: Monthly     Commercial     IFRS Constant  \n",
      "3           Mobility Metered Taxis: Monthly     Commercial     IFRS Constant  \n",
      "4           Mobility Metered Taxis: Monthly     Commercial     IFRS Constant  \n",
      "...                                     ...            ...               ...  \n",
      "1000093  Mobility Commercial Cover: Monthly     Commercial     IFRS Constant  \n",
      "1000094  Mobility Commercial Cover: Monthly     Commercial     IFRS Constant  \n",
      "1000095  Mobility Commercial Cover: Monthly     Commercial     IFRS Constant  \n",
      "1000096  Mobility Commercial Cover: Monthly     Commercial     IFRS Constant  \n",
      "1000097  Mobility Commercial Cover: Monthly     Commercial     IFRS Constant  \n",
      "\n",
      "[1000098 rows x 36 columns]\n"
     ]
    }
   ],
   "source": [
    "categorical_cols = data.select_dtypes(include=['object']).columns\n",
    "data[categorical_cols] = data[categorical_cols].fillna(data[categorical_cols].mode().iloc[0])\n",
    "print(data[categorical_cols])"
   ]
  },
  {
   "cell_type": "code",
   "execution_count": 13,
   "metadata": {},
   "outputs": [],
   "source": [
    "data.to_csv('../data/cleaned_data.csv', index=False)"
   ]
  },
  {
   "cell_type": "code",
   "execution_count": 14,
   "metadata": {},
   "outputs": [
    {
     "name": "stderr",
     "output_type": "stream",
     "text": [
      "C:\\Users\\Firew Ayele\\AppData\\Local\\Temp\\ipykernel_15936\\2334449060.py:1: DtypeWarning: Columns (32) have mixed types. Specify dtype option on import or set low_memory=False.\n",
      "  data = pd.read_csv('../data/cleaned_data.csv')\n"
     ]
    },
    {
     "name": "stdout",
     "output_type": "stream",
     "text": [
      "         UnderwrittenCoverID  PolicyID     TransactionMonth  IsVATRegistered  \\\n",
      "0                     145249     12827  2015-03-01 00:00:00             True   \n",
      "1                     145249     12827  2015-05-01 00:00:00             True   \n",
      "2                     145249     12827  2015-07-01 00:00:00             True   \n",
      "3                     145255     12827  2015-05-01 00:00:00             True   \n",
      "4                     145255     12827  2015-07-01 00:00:00             True   \n",
      "...                      ...       ...                  ...              ...   \n",
      "1000093                31520       389  2015-04-01 00:00:00            False   \n",
      "1000094                31520       389  2015-06-01 00:00:00            False   \n",
      "1000095                31520       389  2015-08-01 00:00:00            False   \n",
      "1000096                31519       389  2014-07-01 00:00:00            False   \n",
      "1000097                31519       389  2015-02-01 00:00:00            False   \n",
      "\n",
      "        Citizenship          LegalType Title Language                 Bank  \\\n",
      "0                    Close Corporation    Mr  English  First National Bank   \n",
      "1                    Close Corporation    Mr  English  First National Bank   \n",
      "2                    Close Corporation    Mr  English  First National Bank   \n",
      "3                    Close Corporation    Mr  English  First National Bank   \n",
      "4                    Close Corporation    Mr  English  First National Bank   \n",
      "...             ...                ...   ...      ...                  ...   \n",
      "1000093          ZW         Individual    Mr  English            ABSA Bank   \n",
      "1000094          ZW         Individual    Mr  English            ABSA Bank   \n",
      "1000095          ZW         Individual    Mr  English            ABSA Bank   \n",
      "1000096          ZW         Individual    Mr  English            ABSA Bank   \n",
      "1000097          ZW         Individual    Mr  English            ABSA Bank   \n",
      "\n",
      "             AccountType  ...                    ExcessSelected  \\\n",
      "0        Current account  ...             Mobility - Windscreen   \n",
      "1        Current account  ...             Mobility - Windscreen   \n",
      "2        Current account  ...             Mobility - Windscreen   \n",
      "3        Current account  ...  Mobility - Metered Taxis - R2000   \n",
      "4        Current account  ...  Mobility - Metered Taxis - R2000   \n",
      "...                  ...  ...                               ...   \n",
      "1000093  Savings account  ...                         No excess   \n",
      "1000094  Savings account  ...                         No excess   \n",
      "1000095  Savings account  ...                         No excess   \n",
      "1000096  Savings account  ...                         No excess   \n",
      "1000097  Savings account  ...                         No excess   \n",
      "\n",
      "               CoverCategory            CoverType            CoverGroup  \\\n",
      "0                 Windscreen           Windscreen  Comprehensive - Taxi   \n",
      "1                 Windscreen           Windscreen  Comprehensive - Taxi   \n",
      "2                 Windscreen           Windscreen  Comprehensive - Taxi   \n",
      "3                 Own damage           Own Damage  Comprehensive - Taxi   \n",
      "4                 Own damage           Own Damage  Comprehensive - Taxi   \n",
      "...                      ...                  ...                   ...   \n",
      "1000093          Third Party          Third Party  Comprehensive - Taxi   \n",
      "1000094          Third Party          Third Party  Comprehensive - Taxi   \n",
      "1000095          Third Party          Third Party  Comprehensive - Taxi   \n",
      "1000096  Passenger Liability  Passenger Liability  Comprehensive - Taxi   \n",
      "1000097  Passenger Liability  Passenger Liability  Comprehensive - Taxi   \n",
      "\n",
      "                     Section                             Product  \\\n",
      "0        Motor Comprehensive     Mobility Metered Taxis: Monthly   \n",
      "1        Motor Comprehensive     Mobility Metered Taxis: Monthly   \n",
      "2        Motor Comprehensive     Mobility Metered Taxis: Monthly   \n",
      "3        Motor Comprehensive     Mobility Metered Taxis: Monthly   \n",
      "4        Motor Comprehensive     Mobility Metered Taxis: Monthly   \n",
      "...                      ...                                 ...   \n",
      "1000093  Motor Comprehensive  Mobility Commercial Cover: Monthly   \n",
      "1000094  Motor Comprehensive  Mobility Commercial Cover: Monthly   \n",
      "1000095  Motor Comprehensive  Mobility Commercial Cover: Monthly   \n",
      "1000096  Motor Comprehensive  Mobility Commercial Cover: Monthly   \n",
      "1000097  Motor Comprehensive  Mobility Commercial Cover: Monthly   \n",
      "\n",
      "        StatutoryClass StatutoryRiskType  TotalPremium TotalClaims  \n",
      "0           Commercial     IFRS Constant     21.929825         0.0  \n",
      "1           Commercial     IFRS Constant     21.929825         0.0  \n",
      "2           Commercial     IFRS Constant      0.000000         0.0  \n",
      "3           Commercial     IFRS Constant    512.848070         0.0  \n",
      "4           Commercial     IFRS Constant      0.000000         0.0  \n",
      "...                ...               ...           ...         ...  \n",
      "1000093     Commercial     IFRS Constant    347.235175         0.0  \n",
      "1000094     Commercial     IFRS Constant    347.235175         0.0  \n",
      "1000095     Commercial     IFRS Constant    347.235175         0.0  \n",
      "1000096     Commercial     IFRS Constant      2.315000         0.0  \n",
      "1000097     Commercial     IFRS Constant      2.315000         0.0  \n",
      "\n",
      "[1000098 rows x 52 columns]\n"
     ]
    }
   ],
   "source": [
    "data = pd.read_csv('../data/cleaned_data.csv')\n",
    "print(data)"
   ]
  },
  {
   "cell_type": "code",
   "execution_count": 15,
   "metadata": {},
   "outputs": [
    {
     "name": "stdout",
     "output_type": "stream",
     "text": [
      "   UnderwrittenCoverID  PolicyID     TransactionMonth  IsVATRegistered  \\\n",
      "0               145249     12827  2015-03-01 00:00:00             True   \n",
      "1               145249     12827  2015-05-01 00:00:00             True   \n",
      "2               145249     12827  2015-07-01 00:00:00             True   \n",
      "3               145255     12827  2015-05-01 00:00:00             True   \n",
      "4               145255     12827  2015-07-01 00:00:00             True   \n",
      "\n",
      "  Citizenship          LegalType Title Language                 Bank  \\\n",
      "0              Close Corporation    Mr  English  First National Bank   \n",
      "1              Close Corporation    Mr  English  First National Bank   \n",
      "2              Close Corporation    Mr  English  First National Bank   \n",
      "3              Close Corporation    Mr  English  First National Bank   \n",
      "4              Close Corporation    Mr  English  First National Bank   \n",
      "\n",
      "       AccountType  ...                    ExcessSelected CoverCategory  \\\n",
      "0  Current account  ...             Mobility - Windscreen    Windscreen   \n",
      "1  Current account  ...             Mobility - Windscreen    Windscreen   \n",
      "2  Current account  ...             Mobility - Windscreen    Windscreen   \n",
      "3  Current account  ...  Mobility - Metered Taxis - R2000    Own damage   \n",
      "4  Current account  ...  Mobility - Metered Taxis - R2000    Own damage   \n",
      "\n",
      "    CoverType            CoverGroup              Section  \\\n",
      "0  Windscreen  Comprehensive - Taxi  Motor Comprehensive   \n",
      "1  Windscreen  Comprehensive - Taxi  Motor Comprehensive   \n",
      "2  Windscreen  Comprehensive - Taxi  Motor Comprehensive   \n",
      "3  Own Damage  Comprehensive - Taxi  Motor Comprehensive   \n",
      "4  Own Damage  Comprehensive - Taxi  Motor Comprehensive   \n",
      "\n",
      "                           Product StatutoryClass StatutoryRiskType  \\\n",
      "0  Mobility Metered Taxis: Monthly     Commercial     IFRS Constant   \n",
      "1  Mobility Metered Taxis: Monthly     Commercial     IFRS Constant   \n",
      "2  Mobility Metered Taxis: Monthly     Commercial     IFRS Constant   \n",
      "3  Mobility Metered Taxis: Monthly     Commercial     IFRS Constant   \n",
      "4  Mobility Metered Taxis: Monthly     Commercial     IFRS Constant   \n",
      "\n",
      "   TotalPremium TotalClaims  \n",
      "0     21.929825         0.0  \n",
      "1     21.929825         0.0  \n",
      "2      0.000000         0.0  \n",
      "3    512.848070         0.0  \n",
      "4      0.000000         0.0  \n",
      "\n",
      "[5 rows x 52 columns]\n"
     ]
    }
   ],
   "source": [
    "# Display the first few rows of the dataset\n",
    "print(data.head())"
   ]
  },
  {
   "cell_type": "markdown",
   "metadata": {},
   "source": [
    " Check the data types and missing values"
   ]
  },
  {
   "cell_type": "code",
   "execution_count": 16,
   "metadata": {},
   "outputs": [
    {
     "name": "stdout",
     "output_type": "stream",
     "text": [
      "<class 'pandas.core.frame.DataFrame'>\n",
      "RangeIndex: 1000098 entries, 0 to 1000097\n",
      "Data columns (total 52 columns):\n",
      " #   Column                    Non-Null Count    Dtype  \n",
      "---  ------                    --------------    -----  \n",
      " 0   UnderwrittenCoverID       1000098 non-null  int64  \n",
      " 1   PolicyID                  1000098 non-null  int64  \n",
      " 2   TransactionMonth          1000098 non-null  object \n",
      " 3   IsVATRegistered           1000098 non-null  bool   \n",
      " 4   Citizenship               1000098 non-null  object \n",
      " 5   LegalType                 1000098 non-null  object \n",
      " 6   Title                     1000098 non-null  object \n",
      " 7   Language                  1000098 non-null  object \n",
      " 8   Bank                      1000098 non-null  object \n",
      " 9   AccountType               1000098 non-null  object \n",
      " 10  MaritalStatus             1000098 non-null  object \n",
      " 11  Gender                    1000098 non-null  object \n",
      " 12  Country                   1000098 non-null  object \n",
      " 13  Province                  1000098 non-null  object \n",
      " 14  PostalCode                1000098 non-null  int64  \n",
      " 15  MainCrestaZone            1000098 non-null  object \n",
      " 16  SubCrestaZone             1000098 non-null  object \n",
      " 17  ItemType                  1000098 non-null  object \n",
      " 18  mmcode                    1000098 non-null  float64\n",
      " 19  VehicleType               1000098 non-null  object \n",
      " 20  RegistrationYear          1000098 non-null  int64  \n",
      " 21  make                      1000098 non-null  object \n",
      " 22  Model                     1000098 non-null  object \n",
      " 23  Cylinders                 1000098 non-null  float64\n",
      " 24  cubiccapacity             1000098 non-null  float64\n",
      " 25  kilowatts                 1000098 non-null  float64\n",
      " 26  bodytype                  1000098 non-null  object \n",
      " 27  NumberOfDoors             1000098 non-null  float64\n",
      " 28  VehicleIntroDate          1000098 non-null  object \n",
      " 29  CustomValueEstimate       1000098 non-null  float64\n",
      " 30  AlarmImmobiliser          1000098 non-null  object \n",
      " 31  TrackingDevice            1000098 non-null  object \n",
      " 32  CapitalOutstanding        1000098 non-null  object \n",
      " 33  NewVehicle                1000098 non-null  object \n",
      " 34  WrittenOff                1000098 non-null  object \n",
      " 35  Rebuilt                   1000098 non-null  object \n",
      " 36  Converted                 1000098 non-null  object \n",
      " 37  CrossBorder               1000098 non-null  object \n",
      " 38  NumberOfVehiclesInFleet   0 non-null        float64\n",
      " 39  SumInsured                1000098 non-null  float64\n",
      " 40  TermFrequency             1000098 non-null  object \n",
      " 41  CalculatedPremiumPerTerm  1000098 non-null  float64\n",
      " 42  ExcessSelected            1000098 non-null  object \n",
      " 43  CoverCategory             1000098 non-null  object \n",
      " 44  CoverType                 1000098 non-null  object \n",
      " 45  CoverGroup                1000098 non-null  object \n",
      " 46  Section                   1000098 non-null  object \n",
      " 47  Product                   1000098 non-null  object \n",
      " 48  StatutoryClass            1000098 non-null  object \n",
      " 49  StatutoryRiskType         1000098 non-null  object \n",
      " 50  TotalPremium              1000098 non-null  float64\n",
      " 51  TotalClaims               1000098 non-null  float64\n",
      "dtypes: bool(1), float64(11), int64(4), object(36)\n",
      "memory usage: 390.1+ MB\n",
      "None\n"
     ]
    }
   ],
   "source": [
    "\n",
    "print(data.info())"
   ]
  },
  {
   "cell_type": "code",
   "execution_count": 17,
   "metadata": {},
   "outputs": [
    {
     "name": "stdout",
     "output_type": "stream",
     "text": [
      "Index(['UnderwrittenCoverID', 'PolicyID', 'TransactionMonth',\n",
      "       'IsVATRegistered', 'Citizenship', 'LegalType', 'Title', 'Language',\n",
      "       'Bank', 'AccountType', 'MaritalStatus', 'Gender', 'Country', 'Province',\n",
      "       'PostalCode', 'MainCrestaZone', 'SubCrestaZone', 'ItemType', 'mmcode',\n",
      "       'VehicleType', 'RegistrationYear', 'make', 'Model', 'Cylinders',\n",
      "       'cubiccapacity', 'kilowatts', 'bodytype', 'NumberOfDoors',\n",
      "       'VehicleIntroDate', 'CustomValueEstimate', 'AlarmImmobiliser',\n",
      "       'TrackingDevice', 'CapitalOutstanding', 'NewVehicle', 'WrittenOff',\n",
      "       'Rebuilt', 'Converted', 'CrossBorder', 'NumberOfVehiclesInFleet',\n",
      "       'SumInsured', 'TermFrequency', 'CalculatedPremiumPerTerm',\n",
      "       'ExcessSelected', 'CoverCategory', 'CoverType', 'CoverGroup', 'Section',\n",
      "       'Product', 'StatutoryClass', 'StatutoryRiskType', 'TotalPremium',\n",
      "       'TotalClaims'],\n",
      "      dtype='object')\n"
     ]
    }
   ],
   "source": [
    "print(data.columns)"
   ]
  },
  {
   "cell_type": "markdown",
   "metadata": {},
   "source": [
    "Task 1.1: Data Summarization\n"
   ]
  },
  {
   "cell_type": "code",
   "execution_count": 18,
   "metadata": {},
   "outputs": [
    {
     "name": "stdout",
     "output_type": "stream",
     "text": [
      "Descriptive statistics:\n",
      "       UnderwrittenCoverID      PolicyID    PostalCode        mmcode  \\\n",
      "count         1.000098e+06  1.000098e+06  1.000098e+06  1.000098e+06   \n",
      "mean          1.048175e+05  7.956682e+03  3.020601e+03  5.488056e+07   \n",
      "std           6.329371e+04  5.290039e+03  2.649854e+03  1.360059e+07   \n",
      "min           1.000000e+00  1.400000e+01  1.000000e+00  4.041200e+06   \n",
      "25%           5.514300e+04  4.500000e+03  8.270000e+02  6.005692e+07   \n",
      "50%           9.408300e+04  7.071000e+03  2.000000e+03  6.005842e+07   \n",
      "75%           1.391900e+05  1.107700e+04  4.180000e+03  6.005842e+07   \n",
      "max           3.011750e+05  2.324600e+04  9.870000e+03  6.506535e+07   \n",
      "\n",
      "       RegistrationYear     Cylinders  cubiccapacity     kilowatts  \\\n",
      "count      1.000098e+06  1.000098e+06   1.000098e+06  1.000098e+06   \n",
      "mean       2.010225e+03  4.046616e+00   2.466869e+03  9.721553e+01   \n",
      "std        3.261391e+00  2.939410e-01   4.427106e+02  1.939061e+01   \n",
      "min        1.987000e+03  0.000000e+00   0.000000e+00  0.000000e+00   \n",
      "25%        2.008000e+03  4.000000e+00   2.237000e+03  7.500000e+01   \n",
      "50%        2.011000e+03  4.000000e+00   2.694000e+03  1.110000e+02   \n",
      "75%        2.013000e+03  4.000000e+00   2.694000e+03  1.110000e+02   \n",
      "max        2.015000e+03  1.000000e+01   1.288000e+04  3.090000e+02   \n",
      "\n",
      "       NumberOfDoors  CustomValueEstimate  NumberOfVehiclesInFleet  \\\n",
      "count   1.000098e+06         1.000098e+06                      0.0   \n",
      "mean    4.019239e+00         2.212193e+05                      NaN   \n",
      "std     4.681854e-01         2.650521e+05                      NaN   \n",
      "min     0.000000e+00         2.000000e+04                      NaN   \n",
      "25%     4.000000e+00         2.200000e+05                      NaN   \n",
      "50%     4.000000e+00         2.200000e+05                      NaN   \n",
      "75%     4.000000e+00         2.200000e+05                      NaN   \n",
      "max     6.000000e+00         2.655000e+07                      NaN   \n",
      "\n",
      "         SumInsured  CalculatedPremiumPerTerm  TotalPremium   TotalClaims  \n",
      "count  1.000098e+06              1.000098e+06  1.000098e+06  1.000098e+06  \n",
      "mean   6.041727e+05              1.178757e+02  6.190550e+01  6.486119e+01  \n",
      "std    1.508332e+06              3.997017e+02  2.302845e+02  2.384075e+03  \n",
      "min    1.000000e-02              0.000000e+00 -7.825768e+02 -1.200241e+04  \n",
      "25%    5.000000e+03              3.224800e+00  0.000000e+00  0.000000e+00  \n",
      "50%    7.500000e+03              8.436900e+00  2.178333e+00  0.000000e+00  \n",
      "75%    2.500000e+05              9.000000e+01  2.192982e+01  0.000000e+00  \n",
      "max    1.263620e+07              7.442217e+04  6.528260e+04  3.930921e+05  \n",
      "\n",
      "Data structure:\n",
      "UnderwrittenCoverID           int64\n",
      "PolicyID                      int64\n",
      "TransactionMonth             object\n",
      "IsVATRegistered                bool\n",
      "Citizenship                  object\n",
      "LegalType                    object\n",
      "Title                        object\n",
      "Language                     object\n",
      "Bank                         object\n",
      "AccountType                  object\n",
      "MaritalStatus                object\n",
      "Gender                       object\n",
      "Country                      object\n",
      "Province                     object\n",
      "PostalCode                    int64\n",
      "MainCrestaZone               object\n",
      "SubCrestaZone                object\n",
      "ItemType                     object\n",
      "mmcode                      float64\n",
      "VehicleType                  object\n",
      "RegistrationYear              int64\n",
      "make                         object\n",
      "Model                        object\n",
      "Cylinders                   float64\n",
      "cubiccapacity               float64\n",
      "kilowatts                   float64\n",
      "bodytype                     object\n",
      "NumberOfDoors               float64\n",
      "VehicleIntroDate             object\n",
      "CustomValueEstimate         float64\n",
      "AlarmImmobiliser             object\n",
      "TrackingDevice               object\n",
      "CapitalOutstanding           object\n",
      "NewVehicle                   object\n",
      "WrittenOff                   object\n",
      "Rebuilt                      object\n",
      "Converted                    object\n",
      "CrossBorder                  object\n",
      "NumberOfVehiclesInFleet     float64\n",
      "SumInsured                  float64\n",
      "TermFrequency                object\n",
      "CalculatedPremiumPerTerm    float64\n",
      "ExcessSelected               object\n",
      "CoverCategory                object\n",
      "CoverType                    object\n",
      "CoverGroup                   object\n",
      "Section                      object\n",
      "Product                      object\n",
      "StatutoryClass               object\n",
      "StatutoryRiskType            object\n",
      "TotalPremium                float64\n",
      "TotalClaims                 float64\n",
      "dtype: object\n"
     ]
    }
   ],
   "source": [
    "\n",
    "# Descriptive statistics\n",
    "print(\"Descriptive statistics:\")\n",
    "print(data.describe())\n",
    "\n",
    "# Data structure\n",
    "print(\"\\nData structure:\")\n",
    "print(data.dtypes)"
   ]
  },
  {
   "cell_type": "markdown",
   "metadata": {},
   "source": [
    "Calculate variability for numerical features"
   ]
  },
  {
   "cell_type": "code",
   "execution_count": 19,
   "metadata": {},
   "outputs": [
    {
     "name": "stdout",
     "output_type": "stream",
     "text": [
      "TotalPremium    5.303096e+04\n",
      "TotalClaims     5.683812e+06\n",
      "dtype: float64\n"
     ]
    }
   ],
   "source": [
    "\n",
    "variability = data[['TotalPremium', 'TotalClaims']].var()\n",
    "print(variability)"
   ]
  },
  {
   "cell_type": "markdown",
   "metadata": {},
   "source": [
    "Task 1.2: Data Quality Assessment"
   ]
  },
  {
   "cell_type": "code",
   "execution_count": 20,
   "metadata": {},
   "outputs": [
    {
     "name": "stdout",
     "output_type": "stream",
     "text": [
      "\n",
      "Missing values:\n",
      "UnderwrittenCoverID               0\n",
      "PolicyID                          0\n",
      "TransactionMonth                  0\n",
      "IsVATRegistered                   0\n",
      "Citizenship                       0\n",
      "LegalType                         0\n",
      "Title                             0\n",
      "Language                          0\n",
      "Bank                              0\n",
      "AccountType                       0\n",
      "MaritalStatus                     0\n",
      "Gender                            0\n",
      "Country                           0\n",
      "Province                          0\n",
      "PostalCode                        0\n",
      "MainCrestaZone                    0\n",
      "SubCrestaZone                     0\n",
      "ItemType                          0\n",
      "mmcode                            0\n",
      "VehicleType                       0\n",
      "RegistrationYear                  0\n",
      "make                              0\n",
      "Model                             0\n",
      "Cylinders                         0\n",
      "cubiccapacity                     0\n",
      "kilowatts                         0\n",
      "bodytype                          0\n",
      "NumberOfDoors                     0\n",
      "VehicleIntroDate                  0\n",
      "CustomValueEstimate               0\n",
      "AlarmImmobiliser                  0\n",
      "TrackingDevice                    0\n",
      "CapitalOutstanding                0\n",
      "NewVehicle                        0\n",
      "WrittenOff                        0\n",
      "Rebuilt                           0\n",
      "Converted                         0\n",
      "CrossBorder                       0\n",
      "NumberOfVehiclesInFleet     1000098\n",
      "SumInsured                        0\n",
      "TermFrequency                     0\n",
      "CalculatedPremiumPerTerm          0\n",
      "ExcessSelected                    0\n",
      "CoverCategory                     0\n",
      "CoverType                         0\n",
      "CoverGroup                        0\n",
      "Section                           0\n",
      "Product                           0\n",
      "StatutoryClass                    0\n",
      "StatutoryRiskType                 0\n",
      "TotalPremium                      0\n",
      "TotalClaims                       0\n",
      "dtype: int64\n"
     ]
    }
   ],
   "source": [
    "# Check for missing values\n",
    "print(\"\\nMissing values:\")\n",
    "print(data.isnull().sum())"
   ]
  },
  {
   "cell_type": "markdown",
   "metadata": {},
   "source": [
    "Univariate Analysis"
   ]
  },
  {
   "cell_type": "code",
   "execution_count": 21,
   "metadata": {},
   "outputs": [
    {
     "data": {
      "image/png": "[encoded data removed]",
      "text/plain": [
       "<Figure size 1000x600 with 1 Axes>"
      ]
     },
     "metadata": {},
     "output_type": "display_data"
    }
   ],
   "source": [
    "\n",
    "# Distribution of Numerical Variables\n",
    "plt.figure(figsize=(10, 6))\n",
    "sns.histplot(data['TotalPremium'], bins=30, kde=True, color='skyblue')\n",
    "plt.title('Distribution of TotalPremium')\n",
    "plt.xlabel('TotalPremium')\n",
    "plt.ylabel('Frequency')\n",
    "plt.show()\n",
    "\n"
   ]
  },
  {
   "cell_type": "code",
   "execution_count": 22,
   "metadata": {},
   "outputs": [
    {
     "data": {
      "image/png": "[encoded data removed]",
      "text/plain": [
       "<Figure size 1000x600 with 1 Axes>"
      ]
     },
     "metadata": {},
     "output_type": "display_data"
    }
   ],
   "source": [
    "plt.figure(figsize=(10, 6))\n",
    "sns.histplot(data['TotalClaims'], bins=30, kde=True, color='salmon')\n",
    "plt.title('Distribution of TotalClaims')\n",
    "plt.xlabel('TotalClaims')\n",
    "plt.ylabel('Frequency')\n",
    "plt.show()"
   ]
  },
  {
   "cell_type": "code",
   "execution_count": 23,
   "metadata": {},
   "outputs": [
    {
     "name": "stderr",
     "output_type": "stream",
     "text": [
      "C:\\Users\\Firew Ayele\\AppData\\Local\\Temp\\ipykernel_15936\\1457239120.py:3: FutureWarning: \n",
      "\n",
      "Passing `palette` without assigning `hue` is deprecated and will be removed in v0.14.0. Assign the `x` variable to `hue` and set `legend=False` for the same effect.\n",
      "\n",
      "  sns.countplot(data=data, x='Gender', palette='Set2')\n"
     ]
    },
    {
     "data": {
      "image/png": "[encoded data removed]",
      "text/plain": [
       "<Figure size 1000x600 with 1 Axes>"
      ]
     },
     "metadata": {},
     "output_type": "display_data"
    },
    {
     "name": "stderr",
     "output_type": "stream",
     "text": [
      "C:\\Users\\Firew Ayele\\AppData\\Local\\Temp\\ipykernel_15936\\1457239120.py:10: FutureWarning: \n",
      "\n",
      "Passing `palette` without assigning `hue` is deprecated and will be removed in v0.14.0. Assign the `x` variable to `hue` and set `legend=False` for the same effect.\n",
      "\n",
      "  sns.countplot(data=data, x='MaritalStatus', palette='Set1')\n"
     ]
    },
    {
     "data": {
      "image/png": "[encoded data removed]",
      "text/plain": [
       "<Figure size 1000x600 with 1 Axes>"
      ]
     },
     "metadata": {},
     "output_type": "display_data"
    }
   ],
   "source": [
    "# Distribution of Categorical Variables\n",
    "plt.figure(figsize=(10, 6))\n",
    "sns.countplot(data=data, x='Gender', palette='Set2')\n",
    "plt.title('Distribution of Gender')\n",
    "plt.xlabel('Gender')\n",
    "plt.ylabel('Count')\n",
    "plt.show()\n",
    "\n",
    "plt.figure(figsize=(10, 6))\n",
    "sns.countplot(data=data, x='MaritalStatus', palette='Set1')\n",
    "plt.title('Distribution of MaritalStatus')\n",
    "plt.xlabel('MaritalStatus')\n",
    "plt.ylabel('Count')\n",
    "plt.show()"
   ]
  }
 ],
 "metadata": {
  "kernelspec": {
   "display_name": "Python 3",
   "language": "python",
   "name": "python3"
  },
  "language_info": {
   "codemirror_mode": {
    "name": "ipython",
    "version": 3
   },
   "file_extension": ".py",
   "mimetype": "text/x-python",
   "name": "python",
   "nbconvert_exporter": "python",
   "pygments_lexer": "ipython3",
   "version": "3.10.6"
  }
 },
 "nbformat": 4,
 "nbformat_minor": 2
}
