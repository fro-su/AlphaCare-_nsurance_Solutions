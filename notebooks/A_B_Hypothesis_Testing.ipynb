{
 "cells": [
  {
   "cell_type": "markdown",
   "metadata": {},
   "source": [
    "Import Required Libraries"
   ]
  },
  {
   "cell_type": "code",
   "execution_count": 35,
   "metadata": {},
   "outputs": [],
   "source": [
    "import pandas as pd\n",
    "import numpy as np\n",
    "from scipy import stats\n"
   ]
  },
  {
   "cell_type": "code",
   "execution_count": 36,
   "metadata": {},
   "outputs": [],
   "source": [
    "# Load data\n",
    "# data = pd.read_csv('../data/cleaned_data.csv')\n",
    "data = pd.read_csv('../data/cleaned_data.csv', header=None,low_memory=False)\n"
   ]
  },
  {
   "cell_type": "code",
   "execution_count": 37,
   "metadata": {},
   "outputs": [],
   "source": [
    "# Optional: Check for any missing values\n",
    "# data.isnull().sum()"
   ]
  },
  {
   "cell_type": "code",
   "execution_count": 38,
   "metadata": {},
   "outputs": [],
   "source": [
    "# Define the correct column names\n",
    "column_names = ['UnderwrittenCoverID', 'PolicyID', 'TransactionMonth', 'IsVATRegistered', 'Citizenship', 'LegalType', 'Title', \n",
    "                'Language', 'Bank', 'AccountType', 'MaritalStatus', 'Gender', 'Country', 'Province', 'PostalCode', 'MainCrestaZone', \n",
    "                'SubCrestaZone', 'ItemType', 'mmcode', 'VehicleType', 'RegistrationYear', 'make', 'Model', 'Cylinders', \n",
    "                'cubiccapacity', 'kilowatts', 'bodytype', 'NumberOfDoors', 'VehicleIntroDate', 'CustomValueEstimate', 'AlarmImmobiliser', \n",
    "                'TrackingDevice', 'CapitalOutstanding', 'NewVehicle', 'WrittenOff', 'Rebuilt', 'Converted', 'CrossBorder', \n",
    "                'NumberOfVehiclesInFleet', 'SumInsured', 'TermFrequency', 'CalculatedPremiumPerTerm', 'ExcessSelected', \n",
    "                'CoverCategory', 'CoverType', 'CoverGroup', 'Section', 'Product', 'StatutoryClass', 'StatutoryRiskType', \n",
    "                'TotalPremium', 'TotalClaims']"
   ]
  },
  {
   "cell_type": "code",
   "execution_count": 39,
   "metadata": {},
   "outputs": [],
   "source": [
    "data.columns = column_names"
   ]
  },
  {
   "cell_type": "code",
   "execution_count": 44,
   "metadata": {},
   "outputs": [
    {
     "data": {
      "text/plain": [
       "UnderwrittenCoverID               0\n",
       "PolicyID                          0\n",
       "TransactionMonth                  0\n",
       "IsVATRegistered                   0\n",
       "Citizenship                       0\n",
       "LegalType                         0\n",
       "Title                             0\n",
       "Language                          0\n",
       "Bank                              0\n",
       "AccountType                       0\n",
       "MaritalStatus                     0\n",
       "Gender                            0\n",
       "Country                           0\n",
       "Province                          0\n",
       "PostalCode                        0\n",
       "MainCrestaZone                    0\n",
       "SubCrestaZone                     0\n",
       "ItemType                          0\n",
       "mmcode                            0\n",
       "VehicleType                       0\n",
       "RegistrationYear                  0\n",
       "make                              0\n",
       "Model                             0\n",
       "Cylinders                         0\n",
       "cubiccapacity                     0\n",
       "kilowatts                         0\n",
       "bodytype                          0\n",
       "NumberOfDoors                     0\n",
       "VehicleIntroDate                  0\n",
       "CustomValueEstimate               0\n",
       "AlarmImmobiliser                  0\n",
       "TrackingDevice                    0\n",
       "CapitalOutstanding                0\n",
       "NewVehicle                        0\n",
       "WrittenOff                        0\n",
       "Rebuilt                           0\n",
       "Converted                         0\n",
       "CrossBorder                       0\n",
       "NumberOfVehiclesInFleet     1000098\n",
       "SumInsured                        0\n",
       "TermFrequency                     0\n",
       "CalculatedPremiumPerTerm          0\n",
       "ExcessSelected                    0\n",
       "CoverCategory                     0\n",
       "CoverType                         0\n",
       "CoverGroup                        0\n",
       "Section                           0\n",
       "Product                           0\n",
       "StatutoryClass                    0\n",
       "StatutoryRiskType                 0\n",
       "TotalPremium                      1\n",
       "TotalClaims                       1\n",
       "dtype: int64"
      ]
     },
     "execution_count": 44,
     "metadata": {},
     "output_type": "execute_result"
    }
   ],
   "source": [
    "# Optional: Check for any missing values\n",
    "data.isnull().sum()"
   ]
  },
  {
   "cell_type": "markdown",
   "metadata": {},
   "source": [
    "Task 3"
   ]
  },
  {
   "cell_type": "code",
   "execution_count": 45,
   "metadata": {},
   "outputs": [],
   "source": [
    "# Convert TotalPremium and TotalClaims to numeric\n",
    "data['TotalPremium'] = pd.to_numeric(data['TotalPremium'], errors='coerce')\n",
    "data['TotalClaims'] = pd.to_numeric(data['TotalClaims'], errors='coerce')\n"
   ]
  },
  {
   "cell_type": "markdown",
   "metadata": {},
   "source": [
    "Define Metrics and Perform Data Segmentation"
   ]
  },
  {
   "cell_type": "markdown",
   "metadata": {},
   "source": [
    "Provinces"
   ]
  },
  {
   "cell_type": "code",
   "execution_count": 63,
   "metadata": {},
   "outputs": [],
   "source": [
    "risk_metric = 'TotalClaims'\n",
    "margin_metric = 'TotalPremium'  # You can calculate margin as TotalPremium - TotalClaims\n",
    "\n",
    "# Group A: Provinces with specific feature\n",
    "group_A_province = data[data['Province'] == 'Gauteng']  # Change to actual province names\n",
    "group_B_province = data[data['Province'] == 'Western Cape']\n"
   ]
  },
  {
   "cell_type": "code",
   "execution_count": 64,
   "metadata": {},
   "outputs": [
    {
     "name": "stdout",
     "output_type": "stream",
     "text": [
      "Hypothesis 1: Test risk differences across provinces\n",
      "-----------------------------------------------------\n",
      "T-statistic: 1.8652143496485993\n",
      "P-value: 0.06215231452280004\n",
      "Fail to Reject Null Hypothesis: No significant risk difference across provinces\n"
     ]
    }
   ],
   "source": [
    "# Perform t-test on TotalClaims between provinces\n",
    "stat_province, p_value_province = stats.ttest_ind(group_A_province[risk_metric], group_B_province[risk_metric], equal_var=False)\n",
    "\n",
    "print(\"Hypothesis 1: Test risk differences across provinces\")\n",
    "print(\"-----------------------------------------------------\")\n",
    "print(f\"T-statistic: {stat_province}\")\n",
    "print(f\"P-value: {p_value_province}\")\n",
    "\n",
    "if p_value_province < 0.05:\n",
    "    print(\"Reject Null Hypothesis: Significant risk difference across provinces\")\n",
    "else:\n",
    "    print(\"Fail to Reject Null Hypothesis: No significant risk difference across provinces\")\n"
   ]
  },
  {
   "cell_type": "markdown",
   "metadata": {},
   "source": [
    "Zip Codes"
   ]
  },
  {
   "cell_type": "code",
   "execution_count": 65,
   "metadata": {},
   "outputs": [],
   "source": [
    "\n",
    "# Group A: Zip Codes with specific feature\n",
    "group_A_zip = data[data['PostalCode'] == '1459']\n",
    "group_B_zip = data[data['PostalCode'] == '7784']\n"
   ]
  },
  {
   "cell_type": "code",
   "execution_count": 66,
   "metadata": {},
   "outputs": [
    {
     "name": "stdout",
     "output_type": "stream",
     "text": [
      "Hypothesis 1: Test risk differences across zip codes\n",
      "-----------------------------------------------------\n",
      "T-statistic: -3.7403598910754248\n",
      "P-value: 0.00018411572295022876\n",
      "Reject Null Hypothesis: Significant risk difference between zip codes\n"
     ]
    }
   ],
   "source": [
    "# Perform t-test on TotalClaims between zip codes\n",
    "stat_zip, p_value_zip = stats.ttest_ind(group_A_zip[risk_metric], group_B_zip[risk_metric], equal_var=False)\n",
    "\n",
    "print(\"Hypothesis 1: Test risk differences across zip codes\")\n",
    "print(\"-----------------------------------------------------\")\n",
    "print(f\"T-statistic: {stat_zip}\")\n",
    "print(f\"P-value: {p_value_zip}\")\n",
    "\n",
    "if p_value_zip < 0.05:\n",
    "    print(\"Reject Null Hypothesis: Significant risk difference between zip codes\")\n",
    "else:\n",
    "    print(\"Fail to Reject Null Hypothesis: No significant risk difference between zip codes\")\n"
   ]
  },
  {
   "cell_type": "markdown",
   "metadata": {},
   "source": [
    "margin difference between zip code"
   ]
  },
  {
   "cell_type": "code",
   "execution_count": 69,
   "metadata": {},
   "outputs": [
    {
     "name": "stdout",
     "output_type": "stream",
     "text": [
      "   TotalPremium  TotalClaims      Margin\n",
      "0           NaN          NaN         NaN\n",
      "1     21.929825          0.0   21.929825\n",
      "2     21.929825          0.0   21.929825\n",
      "3      0.000000          0.0    0.000000\n",
      "4    512.848070          0.0  512.848070\n"
     ]
    }
   ],
   "source": [
    "# Calculate margin (TotalPremium - TotalClaims)\n",
    "data['Margin'] = data[margin_metric] - data[risk_metric]\n",
    "\n",
    "# Optional: Check if the 'Margin' column is successfully added\n",
    "print(data[['TotalPremium', 'TotalClaims', 'Margin']].head())\n"
   ]
  },
  {
   "cell_type": "code",
   "execution_count": 72,
   "metadata": {},
   "outputs": [
    {
     "name": "stdout",
     "output_type": "stream",
     "text": [
      "T-statistic:4.919455962425793\n",
      "P-value: 8.76223176989912e-07\n",
      "Reject Null Hypothesis: Significant margin difference between zip codes\n"
     ]
    }
   ],
   "source": [
    "# Calculate margin (TotalPremium - TotalClaims)\n",
    "Margin = data[margin_metric] - data[risk_metric]\n",
    "stat_margin_zip, p_value_margin_zip = stats.ttest_ind(group_A_zip['Margin'], group_B_zip['Margin'], equal_var=False)\n",
    "\n",
    "\n",
    "print(f\"T-statistic:{stat_margin_zip}\")\n",
    "print(f\"P-value: {p_value_margin_zip}\")\n",
    "\n",
    "if p_value_margin_zip < 0.05:\n",
    "    print(\"Reject Null Hypothesis: Significant margin difference between zip codes\")\n",
    "else:\n",
    "    print(\"Fail to Reject Null Hypothesis: No significant margin difference between zip codes\")\n"
   ]
  },
  {
   "cell_type": "markdown",
   "metadata": {},
   "source": [
    "Gender comparison"
   ]
  },
  {
   "cell_type": "code",
   "execution_count": null,
   "metadata": {},
   "outputs": [],
   "source": [
    "# Group A: Gender comparison (Men)\n",
    "group_A_gender = data[data['Gender'] == 'Male']\n",
    "group_B_gender = data[data['Gender'] == 'Female']\n"
   ]
  },
  {
   "cell_type": "code",
   "execution_count": null,
   "metadata": {},
   "outputs": [
    {
     "name": "stdout",
     "output_type": "stream",
     "text": [
      "Hypothesis 1: Test risk differences across genders\n",
      "-----------------------------------------------------\n",
      "T-statistic: -0.296353891400699\n",
      "P-value: 0.7669656471629474\n",
      "Fail to Reject Null Hypothesis: No significant risk difference between Women and Men\n"
     ]
    }
   ],
   "source": [
    "# Perform t-test on TotalClaims between genders\n",
    "stat_gender, p_value_gender = stats.ttest_ind(group_A_gender[risk_metric], group_B_gender[risk_metric], equal_var=False)\n",
    "\n",
    "print(\"Hypothesis 1: Test risk differences across genders\")\n",
    "print(\"-----------------------------------------------------\")\n",
    "print(f\"T-statistic: {stat_gender}\")\n",
    "print(f\"P-value: {p_value_gender}\")\n",
    "\n",
    "\n",
    "if p_value_gender < 0.05:\n",
    "    print(\"Reject Null Hypothesis: Significant risk difference between Women and Men\")\n",
    "else:\n",
    "    print(\"Fail to Reject Null Hypothesis: No significant risk difference between Women and Men\")\n"
   ]
  }
 ],
 "metadata": {
  "kernelspec": {
   "display_name": ".venv_insurance",
   "language": "python",
   "name": "python3"
  },
  "language_info": {
   "codemirror_mode": {
    "name": "ipython",
    "version": 3
   },
   "file_extension": ".py",
   "mimetype": "text/x-python",
   "name": "python",
   "nbconvert_exporter": "python",
   "pygments_lexer": "ipython3",
   "version": "3.10.6"
  }
 },
 "nbformat": 4,
 "nbformat_minor": 2
}
